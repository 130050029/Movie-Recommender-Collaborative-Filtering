{
 "cells": [
  {
   "cell_type": "markdown",
   "id": "3b358f4d",
   "metadata": {},
   "source": [
    "# Collaborative Filtering Recommendation System"
   ]
  },
  {
   "cell_type": "markdown",
   "id": "55eedac4",
   "metadata": {},
   "source": [
    "## Task 1: Import Modules"
   ]
  },
  {
   "cell_type": "code",
   "execution_count": 1,
   "id": "54298d2c",
   "metadata": {},
   "outputs": [],
   "source": [
    "import pandas as pd\n",
    "import numpy as np\n",
    "import sklearn\n",
    "from sklearn.metrics.pairwise import cosine_similarity"
   ]
  },
  {
   "cell_type": "markdown",
   "id": "5c8e83a3",
   "metadata": {},
   "source": [
    "## Task 2: Import the Dataset"
   ]
  },
  {
   "cell_type": "code",
   "execution_count": 2,
   "id": "0dd3cbfc",
   "metadata": {},
   "outputs": [
    {
     "data": {
      "text/plain": [
       "['lost+found',\n",
       " 'app.py',\n",
       " '.ipynb_checkpoints',\n",
       " 'Movie_data.csv',\n",
       " 'Movie_Id_Titles.csv',\n",
       " 'CollaborativeFiltering.ipynb']"
      ]
     },
     "execution_count": 2,
     "metadata": {},
     "output_type": "execute_result"
    }
   ],
   "source": [
    "import os\n",
    "os.listdir('.')"
   ]
  },
  {
   "cell_type": "code",
   "execution_count": 3,
   "id": "bc3b6d68",
   "metadata": {},
   "outputs": [],
   "source": [
    "column_names = ['User_ID', 'User_Names', 'Movie_ID', 'Rating', 'Timestamp']\n",
    "movie_data = pd.read_csv('Movie_data.csv', names=column_names)\n",
    "\n",
    "titles_data = pd.read_csv('Movie_Id_Titles.csv')\n",
    "titles_data.rename(columns = {'item_id' : 'Movie_ID', 'title' : 'Movie_Title'}, inplace=True)\n",
    "\n",
    "movie_df = pd.merge(movie_data, titles_data, on='Movie_ID')"
   ]
  },
  {
   "cell_type": "markdown",
   "id": "4ecd7f73",
   "metadata": {},
   "source": [
    "## Task 3: Explore the Dataset"
   ]
  },
  {
   "cell_type": "code",
   "execution_count": 4,
   "id": "8dfd4237",
   "metadata": {},
   "outputs": [
    {
     "data": {
      "text/html": [
       "<div>\n",
       "<style scoped>\n",
       "    .dataframe tbody tr th:only-of-type {\n",
       "        vertical-align: middle;\n",
       "    }\n",
       "\n",
       "    .dataframe tbody tr th {\n",
       "        vertical-align: top;\n",
       "    }\n",
       "\n",
       "    .dataframe thead th {\n",
       "        text-align: right;\n",
       "    }\n",
       "</style>\n",
       "<table border=\"1\" class=\"dataframe\">\n",
       "  <thead>\n",
       "    <tr style=\"text-align: right;\">\n",
       "      <th></th>\n",
       "      <th>Movie_ID</th>\n",
       "      <th>Movie_Title</th>\n",
       "    </tr>\n",
       "  </thead>\n",
       "  <tbody>\n",
       "    <tr>\n",
       "      <th>0</th>\n",
       "      <td>1</td>\n",
       "      <td>Toy Story (1995)</td>\n",
       "    </tr>\n",
       "    <tr>\n",
       "      <th>1</th>\n",
       "      <td>2</td>\n",
       "      <td>GoldenEye (1995)</td>\n",
       "    </tr>\n",
       "    <tr>\n",
       "      <th>2</th>\n",
       "      <td>3</td>\n",
       "      <td>Four Rooms (1995)</td>\n",
       "    </tr>\n",
       "    <tr>\n",
       "      <th>3</th>\n",
       "      <td>4</td>\n",
       "      <td>Get Shorty (1995)</td>\n",
       "    </tr>\n",
       "    <tr>\n",
       "      <th>4</th>\n",
       "      <td>5</td>\n",
       "      <td>Copycat (1995)</td>\n",
       "    </tr>\n",
       "  </tbody>\n",
       "</table>\n",
       "</div>"
      ],
      "text/plain": [
       "   Movie_ID        Movie_Title\n",
       "0         1   Toy Story (1995)\n",
       "1         2   GoldenEye (1995)\n",
       "2         3  Four Rooms (1995)\n",
       "3         4  Get Shorty (1995)\n",
       "4         5     Copycat (1995)"
      ]
     },
     "execution_count": 4,
     "metadata": {},
     "output_type": "execute_result"
    }
   ],
   "source": [
    "titles_data[0:5]"
   ]
  },
  {
   "cell_type": "code",
   "execution_count": 5,
   "id": "6b635bcf",
   "metadata": {},
   "outputs": [
    {
     "data": {
      "text/html": [
       "<div>\n",
       "<style scoped>\n",
       "    .dataframe tbody tr th:only-of-type {\n",
       "        vertical-align: middle;\n",
       "    }\n",
       "\n",
       "    .dataframe tbody tr th {\n",
       "        vertical-align: top;\n",
       "    }\n",
       "\n",
       "    .dataframe thead th {\n",
       "        text-align: right;\n",
       "    }\n",
       "</style>\n",
       "<table border=\"1\" class=\"dataframe\">\n",
       "  <thead>\n",
       "    <tr style=\"text-align: right;\">\n",
       "      <th></th>\n",
       "      <th>User_ID</th>\n",
       "      <th>Movie_ID</th>\n",
       "      <th>Rating</th>\n",
       "      <th>Timestamp</th>\n",
       "    </tr>\n",
       "  </thead>\n",
       "  <tbody>\n",
       "    <tr>\n",
       "      <th>count</th>\n",
       "      <td>100003.000000</td>\n",
       "      <td>100003.000000</td>\n",
       "      <td>100003.000000</td>\n",
       "      <td>1.000030e+05</td>\n",
       "    </tr>\n",
       "    <tr>\n",
       "      <th>mean</th>\n",
       "      <td>462.470876</td>\n",
       "      <td>425.520914</td>\n",
       "      <td>3.529864</td>\n",
       "      <td>8.835288e+08</td>\n",
       "    </tr>\n",
       "    <tr>\n",
       "      <th>std</th>\n",
       "      <td>266.622454</td>\n",
       "      <td>330.797791</td>\n",
       "      <td>1.125704</td>\n",
       "      <td>5.343791e+06</td>\n",
       "    </tr>\n",
       "    <tr>\n",
       "      <th>min</th>\n",
       "      <td>0.000000</td>\n",
       "      <td>1.000000</td>\n",
       "      <td>1.000000</td>\n",
       "      <td>8.747247e+08</td>\n",
       "    </tr>\n",
       "    <tr>\n",
       "      <th>25%</th>\n",
       "      <td>254.000000</td>\n",
       "      <td>175.000000</td>\n",
       "      <td>3.000000</td>\n",
       "      <td>8.794487e+08</td>\n",
       "    </tr>\n",
       "    <tr>\n",
       "      <th>50%</th>\n",
       "      <td>447.000000</td>\n",
       "      <td>322.000000</td>\n",
       "      <td>4.000000</td>\n",
       "      <td>8.828269e+08</td>\n",
       "    </tr>\n",
       "    <tr>\n",
       "      <th>75%</th>\n",
       "      <td>682.000000</td>\n",
       "      <td>631.000000</td>\n",
       "      <td>4.000000</td>\n",
       "      <td>8.882600e+08</td>\n",
       "    </tr>\n",
       "    <tr>\n",
       "      <th>max</th>\n",
       "      <td>943.000000</td>\n",
       "      <td>1682.000000</td>\n",
       "      <td>5.000000</td>\n",
       "      <td>8.932866e+08</td>\n",
       "    </tr>\n",
       "  </tbody>\n",
       "</table>\n",
       "</div>"
      ],
      "text/plain": [
       "             User_ID       Movie_ID         Rating     Timestamp\n",
       "count  100003.000000  100003.000000  100003.000000  1.000030e+05\n",
       "mean      462.470876     425.520914       3.529864  8.835288e+08\n",
       "std       266.622454     330.797791       1.125704  5.343791e+06\n",
       "min         0.000000       1.000000       1.000000  8.747247e+08\n",
       "25%       254.000000     175.000000       3.000000  8.794487e+08\n",
       "50%       447.000000     322.000000       4.000000  8.828269e+08\n",
       "75%       682.000000     631.000000       4.000000  8.882600e+08\n",
       "max       943.000000    1682.000000       5.000000  8.932866e+08"
      ]
     },
     "execution_count": 5,
     "metadata": {},
     "output_type": "execute_result"
    }
   ],
   "source": [
    "movie_df.describe()"
   ]
  },
  {
   "cell_type": "code",
   "execution_count": 6,
   "id": "81c12e2d",
   "metadata": {},
   "outputs": [],
   "source": [
    "n_users =movie_df.User_ID.unique().shape[0]\n",
    "n_movies =movie_df.Movie_ID.unique().shape[0]"
   ]
  },
  {
   "cell_type": "code",
   "execution_count": 7,
   "id": "81d3a346",
   "metadata": {},
   "outputs": [
    {
     "data": {
      "text/plain": [
       "(944, 1682)"
      ]
     },
     "execution_count": 7,
     "metadata": {},
     "output_type": "execute_result"
    }
   ],
   "source": [
    "n_users, n_movies"
   ]
  },
  {
   "cell_type": "code",
   "execution_count": 8,
   "id": "db37b182",
   "metadata": {},
   "outputs": [
    {
     "data": {
      "text/html": [
       "<div>\n",
       "<style scoped>\n",
       "    .dataframe tbody tr th:only-of-type {\n",
       "        vertical-align: middle;\n",
       "    }\n",
       "\n",
       "    .dataframe tbody tr th {\n",
       "        vertical-align: top;\n",
       "    }\n",
       "\n",
       "    .dataframe thead th {\n",
       "        text-align: right;\n",
       "    }\n",
       "</style>\n",
       "<table border=\"1\" class=\"dataframe\">\n",
       "  <thead>\n",
       "    <tr style=\"text-align: right;\">\n",
       "      <th></th>\n",
       "      <th>User_ID</th>\n",
       "      <th>User_Names</th>\n",
       "      <th>Movie_ID</th>\n",
       "      <th>Rating</th>\n",
       "      <th>Timestamp</th>\n",
       "      <th>Movie_Title</th>\n",
       "    </tr>\n",
       "  </thead>\n",
       "  <tbody>\n",
       "    <tr>\n",
       "      <th>0</th>\n",
       "      <td>0</td>\n",
       "      <td>Shawn Wilson</td>\n",
       "      <td>50</td>\n",
       "      <td>5</td>\n",
       "      <td>881250949</td>\n",
       "      <td>Star Wars (1977)</td>\n",
       "    </tr>\n",
       "    <tr>\n",
       "      <th>1</th>\n",
       "      <td>22</td>\n",
       "      <td>Robert Poulin</td>\n",
       "      <td>50</td>\n",
       "      <td>5</td>\n",
       "      <td>878887765</td>\n",
       "      <td>Star Wars (1977)</td>\n",
       "    </tr>\n",
       "    <tr>\n",
       "      <th>2</th>\n",
       "      <td>244</td>\n",
       "      <td>Laura Krulik</td>\n",
       "      <td>50</td>\n",
       "      <td>5</td>\n",
       "      <td>880604379</td>\n",
       "      <td>Star Wars (1977)</td>\n",
       "    </tr>\n",
       "    <tr>\n",
       "      <th>3</th>\n",
       "      <td>298</td>\n",
       "      <td>Loren Aucoin</td>\n",
       "      <td>50</td>\n",
       "      <td>5</td>\n",
       "      <td>884125578</td>\n",
       "      <td>Star Wars (1977)</td>\n",
       "    </tr>\n",
       "    <tr>\n",
       "      <th>4</th>\n",
       "      <td>115</td>\n",
       "      <td>Dominick Jenkins</td>\n",
       "      <td>50</td>\n",
       "      <td>5</td>\n",
       "      <td>881172049</td>\n",
       "      <td>Star Wars (1977)</td>\n",
       "    </tr>\n",
       "  </tbody>\n",
       "</table>\n",
       "</div>"
      ],
      "text/plain": [
       "   User_ID        User_Names  Movie_ID  Rating  Timestamp       Movie_Title\n",
       "0        0      Shawn Wilson        50       5  881250949  Star Wars (1977)\n",
       "1       22     Robert Poulin        50       5  878887765  Star Wars (1977)\n",
       "2      244      Laura Krulik        50       5  880604379  Star Wars (1977)\n",
       "3      298      Loren Aucoin        50       5  884125578  Star Wars (1977)\n",
       "4      115  Dominick Jenkins        50       5  881172049  Star Wars (1977)"
      ]
     },
     "execution_count": 8,
     "metadata": {},
     "output_type": "execute_result"
    }
   ],
   "source": [
    "movie_df[0:5]"
   ]
  },
  {
   "cell_type": "code",
   "execution_count": null,
   "id": "31fd50c9",
   "metadata": {},
   "outputs": [],
   "source": []
  },
  {
   "cell_type": "markdown",
   "id": "63d71396",
   "metadata": {},
   "source": [
    "## Task 4: Create an Interaction Matrix"
   ]
  },
  {
   "cell_type": "code",
   "execution_count": 9,
   "id": "8d5161f2",
   "metadata": {},
   "outputs": [],
   "source": [
    "ratings = np.zeros((n_users, n_movies))\n",
    "\n",
    "for i in range(len(movie_df)):\n",
    "    ratings[movie_df['User_ID'][i], movie_df['Movie_ID'][i]-1] = movie_df['Rating'][i]\n",
    "#     print(movie_df['User_ID'][i], movie_df['Movie_ID'][i], )\n"
   ]
  },
  {
   "cell_type": "code",
   "execution_count": 10,
   "id": "cae18cba",
   "metadata": {},
   "outputs": [
    {
     "name": "stdout",
     "output_type": "stream",
     "text": [
      "(944, 1682)\n",
      "[[0. 0. 0. ... 0. 0. 0.]\n",
      " [5. 3. 4. ... 0. 0. 0.]\n",
      " [4. 0. 0. ... 0. 0. 0.]\n",
      " ...\n",
      " [5. 0. 0. ... 0. 0. 0.]\n",
      " [0. 0. 0. ... 0. 0. 0.]\n",
      " [0. 5. 0. ... 0. 0. 0.]]\n"
     ]
    }
   ],
   "source": [
    "print(ratings.shape)\n",
    "print(ratings)\n"
   ]
  },
  {
   "cell_type": "markdown",
   "id": "e2e125ce",
   "metadata": {},
   "source": [
    "## Task 5: Explore the Interaction Matrix"
   ]
  },
  {
   "cell_type": "code",
   "execution_count": 11,
   "id": "79ccdaa3",
   "metadata": {},
   "outputs": [
    {
     "data": {
      "text/plain": [
       "14.877603671889844"
      ]
     },
     "execution_count": 11,
     "metadata": {},
     "output_type": "execute_result"
    }
   ],
   "source": [
    "sparsity = len(np.where(ratings == 0)[0])*1.0/len(np.where(ratings > 0)[0])\n",
    "# print(len(np.where(ratings == 0)), len(np.where(ratings >0)))\n",
    "sparsity"
   ]
  },
  {
   "cell_type": "code",
   "execution_count": 12,
   "id": "e486d299",
   "metadata": {},
   "outputs": [
    {
     "name": "stdout",
     "output_type": "stream",
     "text": [
      "6.298179628771237\n"
     ]
    }
   ],
   "source": [
    "sparsity = float(len(ratings.nonzero()[0]))\n",
    "sparsity /= (ratings.shape[0] * ratings.shape[1])\n",
    "sparsity *= 100\n",
    "print(sparsity)"
   ]
  },
  {
   "cell_type": "markdown",
   "id": "177b3424",
   "metadata": {},
   "source": [
    "## Task 6 : Create a Similarity Matrix"
   ]
  },
  {
   "cell_type": "code",
   "execution_count": 13,
   "id": "8a0eac12",
   "metadata": {},
   "outputs": [
    {
     "data": {
      "text/plain": [
       "array([[1.        , 0.11988816, 0.11554032, ..., 0.        , 0.18180857,\n",
       "        0.11890394],\n",
       "       [0.11988816, 1.        , 0.16693098, ..., 0.14861694, 0.17950788,\n",
       "        0.39817474],\n",
       "       [0.11554032, 0.16693098, 1.        , ..., 0.16148478, 0.17226781,\n",
       "        0.10579788],\n",
       "       ...,\n",
       "       [0.        , 0.14861694, 0.16148478, ..., 1.        , 0.1016418 ,\n",
       "        0.09511958],\n",
       "       [0.18180857, 0.17950788, 0.17226781, ..., 0.1016418 , 1.        ,\n",
       "        0.18246466],\n",
       "       [0.11890394, 0.39817474, 0.10579788, ..., 0.09511958, 0.18246466,\n",
       "        1.        ]])"
      ]
     },
     "execution_count": 13,
     "metadata": {},
     "output_type": "execute_result"
    }
   ],
   "source": [
    "rating_cosine_similarity = cosine_similarity(ratings)\n",
    "rating_cosine_similarity"
   ]
  },
  {
   "cell_type": "markdown",
   "id": "9c6b9d12",
   "metadata": {},
   "source": [
    "## Task 7: Provide Recommendations"
   ]
  },
  {
   "cell_type": "code",
   "execution_count": 20,
   "id": "5313790a",
   "metadata": {},
   "outputs": [],
   "source": [
    "def recommend(ratings, rating_cosine_similarity, user_id, k=10, top_n=10):\n",
    "    \n",
    "    similar_users = rating_cosine_similarity[user_id]\n",
    "    \n",
    "    sorted_users = np.argsort(-1*similar_users)\n",
    "    \n",
    "    top_k_users = sorted_users[0:k] ### ignoring 1 because that would be same user\n",
    "#     print(top_k_users, similar_users.argpartition(-k)[-k:]) ## argpartition does the same thing as decided\n",
    "    ratings_top_k = ratings[top_k_users]\n",
    "    avg_ratings_top_k = ratings_top_k.mean(axis=0)\n",
    "    \n",
    "    sorted_movies = np.argsort(-1*avg_ratings_top_k).tolist()\n",
    "    \n",
    "    seen_movies = np.where(ratings[user_id] > 0)[0].tolist()\n",
    "#     print(seen_movies)\n",
    "    \n",
    "    rec_movies = [x+1 for x in sorted_movies if x not in seen_movies]\n",
    "#     print(rec_movies[0:top_n])\n",
    "    \n",
    "#     rec_movies_a=rec_movies.index.to_frame().reset_index(drop=True)\n",
    "#     rec_movies_a.rename(columns={rec_movies_a.columns[0]: 'Movie_ID'}, inplace=True)\n",
    "\n",
    "    ## also create a dataframe from rec_movies\n",
    "    \n",
    "    rec_movies_df = pd.DataFrame(rec_movies)\n",
    "    rec_movies_df = rec_movies_df.head(top_n)\n",
    "    \n",
    "#     rec_movies_df=rec_movies_df.index.to_frame().reset_index(drop=True)\n",
    "    rec_movies_df.rename(columns={rec_movies_df.columns[0]: 'Movie_ID'}, inplace=True)\n",
    "\n",
    "    return rec_movies[0:top_n], rec_movies_df\n"
   ]
  },
  {
   "cell_type": "code",
   "execution_count": 21,
   "id": "a3536eb4",
   "metadata": {},
   "outputs": [
    {
     "data": {
      "text/plain": [
       "([181, 496, 210, 423, 173, 385, 568, 79, 566, 22],\n",
       "    Movie_ID\n",
       " 0       181\n",
       " 1       496\n",
       " 2       210\n",
       " 3       423\n",
       " 4       173\n",
       " 5       385\n",
       " 6       568\n",
       " 7        79\n",
       " 8       566\n",
       " 9        22)"
      ]
     },
     "execution_count": 21,
     "metadata": {},
     "output_type": "execute_result"
    }
   ],
   "source": [
    "recommend(ratings, rating_cosine_similarity, 12)"
   ]
  },
  {
   "cell_type": "markdown",
   "id": "545d69a8",
   "metadata": {},
   "source": [
    "## Task 8: View the Provided Recommendations "
   ]
  },
  {
   "cell_type": "code",
   "execution_count": null,
   "id": "3e1b7cf5",
   "metadata": {},
   "outputs": [],
   "source": []
  },
  {
   "cell_type": "code",
   "execution_count": null,
   "id": "ee1b66d6",
   "metadata": {},
   "outputs": [],
   "source": []
  },
  {
   "cell_type": "markdown",
   "id": "ab7a7ac8",
   "metadata": {},
   "source": [
    "## Task 9: Create Wrapper Function"
   ]
  },
  {
   "cell_type": "code",
   "execution_count": 22,
   "id": "29865730",
   "metadata": {},
   "outputs": [],
   "source": [
    "def movie_recommender_run(user_Name):\n",
    "    #Get ID from Name\n",
    "    user_ID=movie_df.loc[movie_df['User_Names'] == user_Name].User_ID.values[0]\n",
    "    #Call the function\n",
    "#     temp=movie_recommender(ratings, rating_cosine_similarity, user_ID)\n",
    "    _, rec_movies_df = recommend(ratings, rating_cosine_similarity, user_ID)\n",
    "    # Join with the movie_title_df to get the movie titles\n",
    "    top_k_rec=rec_movies_df.merge(titles_data, how='inner')\n",
    "    return top_k_rec"
   ]
  },
  {
   "cell_type": "code",
   "execution_count": 23,
   "id": "8ad5da3a",
   "metadata": {},
   "outputs": [
    {
     "data": {
      "text/html": [
       "<div>\n",
       "<style scoped>\n",
       "    .dataframe tbody tr th:only-of-type {\n",
       "        vertical-align: middle;\n",
       "    }\n",
       "\n",
       "    .dataframe tbody tr th {\n",
       "        vertical-align: top;\n",
       "    }\n",
       "\n",
       "    .dataframe thead th {\n",
       "        text-align: right;\n",
       "    }\n",
       "</style>\n",
       "<table border=\"1\" class=\"dataframe\">\n",
       "  <thead>\n",
       "    <tr style=\"text-align: right;\">\n",
       "      <th></th>\n",
       "      <th>Movie_ID</th>\n",
       "      <th>Movie_Title</th>\n",
       "    </tr>\n",
       "  </thead>\n",
       "  <tbody>\n",
       "    <tr>\n",
       "      <th>0</th>\n",
       "      <td>181</td>\n",
       "      <td>Return of the Jedi (1983)</td>\n",
       "    </tr>\n",
       "    <tr>\n",
       "      <th>1</th>\n",
       "      <td>258</td>\n",
       "      <td>Contact (1997)</td>\n",
       "    </tr>\n",
       "    <tr>\n",
       "      <th>2</th>\n",
       "      <td>234</td>\n",
       "      <td>Jaws (1975)</td>\n",
       "    </tr>\n",
       "    <tr>\n",
       "      <th>3</th>\n",
       "      <td>174</td>\n",
       "      <td>Raiders of the Lost Ark (1981)</td>\n",
       "    </tr>\n",
       "    <tr>\n",
       "      <th>4</th>\n",
       "      <td>692</td>\n",
       "      <td>American President, The (1995)</td>\n",
       "    </tr>\n",
       "    <tr>\n",
       "      <th>5</th>\n",
       "      <td>210</td>\n",
       "      <td>Indiana Jones and the Last Crusade (1989)</td>\n",
       "    </tr>\n",
       "    <tr>\n",
       "      <th>6</th>\n",
       "      <td>144</td>\n",
       "      <td>Die Hard (1988)</td>\n",
       "    </tr>\n",
       "    <tr>\n",
       "      <th>7</th>\n",
       "      <td>98</td>\n",
       "      <td>Silence of the Lambs, The (1991)</td>\n",
       "    </tr>\n",
       "    <tr>\n",
       "      <th>8</th>\n",
       "      <td>114</td>\n",
       "      <td>Wallace &amp; Gromit: The Best of Aardman Animatio...</td>\n",
       "    </tr>\n",
       "    <tr>\n",
       "      <th>9</th>\n",
       "      <td>100</td>\n",
       "      <td>Fargo (1996)</td>\n",
       "    </tr>\n",
       "  </tbody>\n",
       "</table>\n",
       "</div>"
      ],
      "text/plain": [
       "   Movie_ID                                        Movie_Title\n",
       "0       181                          Return of the Jedi (1983)\n",
       "1       258                                     Contact (1997)\n",
       "2       234                                        Jaws (1975)\n",
       "3       174                     Raiders of the Lost Ark (1981)\n",
       "4       692                     American President, The (1995)\n",
       "5       210          Indiana Jones and the Last Crusade (1989)\n",
       "6       144                                    Die Hard (1988)\n",
       "7        98                   Silence of the Lambs, The (1991)\n",
       "8       114  Wallace & Gromit: The Best of Aardman Animatio...\n",
       "9       100                                       Fargo (1996)"
      ]
     },
     "execution_count": 23,
     "metadata": {},
     "output_type": "execute_result"
    }
   ],
   "source": [
    "movie_recommender_run('Shawn Wilson')"
   ]
  },
  {
   "cell_type": "code",
   "execution_count": null,
   "id": "817aa202",
   "metadata": {},
   "outputs": [],
   "source": []
  },
  {
   "cell_type": "code",
   "execution_count": null,
   "id": "fed53f74",
   "metadata": {},
   "outputs": [],
   "source": []
  },
  {
   "cell_type": "code",
   "execution_count": null,
   "id": "83b1bebe",
   "metadata": {},
   "outputs": [],
   "source": []
  },
  {
   "cell_type": "code",
   "execution_count": null,
   "id": "eb55a687",
   "metadata": {},
   "outputs": [],
   "source": []
  }
 ],
 "metadata": {
  "kernelspec": {
   "display_name": "Python 3 (ipykernel)",
   "language": "python",
   "name": "python3"
  },
  "language_info": {
   "codemirror_mode": {
    "name": "ipython",
    "version": 3
   },
   "file_extension": ".py",
   "mimetype": "text/x-python",
   "name": "python",
   "nbconvert_exporter": "python",
   "pygments_lexer": "ipython3",
   "version": "3.8.10"
  }
 },
 "nbformat": 4,
 "nbformat_minor": 5
}
